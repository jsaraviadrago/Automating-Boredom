{
 "cells": [
  {
   "metadata": {},
   "cell_type": "markdown",
   "source": "# Importar librerías",
   "id": "ad8d1883bcb454da"
  },
  {
   "cell_type": "code",
   "id": "initial_id",
   "metadata": {
    "collapsed": true,
    "ExecuteTime": {
     "end_time": "2024-07-12T23:52:23.163592Z",
     "start_time": "2024-07-12T23:52:22.071324Z"
    }
   },
   "source": [
    "import pandas as pd\n",
    "import glob\n"
   ],
   "outputs": [],
   "execution_count": 1
  },
  {
   "metadata": {},
   "cell_type": "markdown",
   "source": [
    "### Jalar toda la informacion\n",
    "- Esta información la jalé de un repositorio privado"
   ],
   "id": "38635f1eedc85bf5"
  },
  {
   "metadata": {
    "ExecuteTime": {
     "end_time": "2024-07-13T00:41:05.906195Z",
     "start_time": "2024-07-13T00:41:05.855890Z"
    }
   },
   "cell_type": "code",
   "source": [
    "folder_path = 'C:\\\\Users\\\\JuanCarlosSaraviaDra\\\\OneDrive - NG ENTERTAINMENT PERÚ II\\\\Escritorio\\\\statssos\\\\3.1_Analisis_descriptivos\\\\equipos_peru\\\\'\n",
    "\n",
    "files = glob.glob(folder_path + '*.csv')\n",
    "dfs = [pd.read_csv(f,header = None, sep = \",\") for f in files]\n",
    "\n",
    "data_equipos = pd.concat(dfs, ignore_index=True)\n",
    "\n",
    "headers = data_equipos.iloc[0].values\n",
    "data_equipos.columns = headers\n",
    "data_equipos.drop(index=0, axis=0, inplace=True)\n",
    "\n",
    "data_equipos = data_equipos[data_equipos.region != \"region\"]\n",
    "\n",
    "\n",
    "data_equipos['Fundación'] = data_equipos['Fundación'].str.replace('años', '')\n",
    "data_equipos['Fundación'] = data_equipos['Fundación'].str.strip()\n",
    "\n",
    "\n",
    "data_equipos['Fundación'] = pd.to_numeric(data_equipos['Fundación'], errors='coerce')\n",
    "data_equipos['Año_fundacion'] = 2024-data_equipos['Fundación']\n",
    "\n",
    "data_equipos = data_equipos.drop('Fundación', axis=1)\n",
    "\n",
    "data_equipos['Años_cantidad'] = 2024-data_equipos['Año_fundacion']\n",
    "data_equipos\n",
    "data_equipos.to_csv(\"C:\\\\Users\\\\JuanCarlosSaraviaDra\\\\Downloads\\\\data_equipos_vf1.csv\", index=None)\n"
   ],
   "id": "158a5bae6403c0ff",
   "outputs": [],
   "execution_count": 29
  },
  {
   "metadata": {
    "ExecuteTime": {
     "end_time": "2024-07-11T20:08:54.248089Z",
     "start_time": "2024-07-11T20:08:54.238252Z"
    }
   },
   "cell_type": "code",
   "source": "\n",
   "id": "36297e687e4bd6ff",
   "outputs": [],
   "execution_count": 19
  },
  {
   "metadata": {},
   "cell_type": "code",
   "outputs": [],
   "execution_count": null,
   "source": "",
   "id": "31e6504bbd252406"
  }
 ],
 "metadata": {
  "kernelspec": {
   "display_name": "Python 3",
   "language": "python",
   "name": "python3"
  },
  "language_info": {
   "codemirror_mode": {
    "name": "ipython",
    "version": 2
   },
   "file_extension": ".py",
   "mimetype": "text/x-python",
   "name": "python",
   "nbconvert_exporter": "python",
   "pygments_lexer": "ipython2",
   "version": "2.7.6"
  }
 },
 "nbformat": 4,
 "nbformat_minor": 5
}
