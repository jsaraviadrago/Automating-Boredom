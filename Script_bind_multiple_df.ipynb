{
 "cells": [
  {
   "metadata": {},
   "cell_type": "markdown",
   "source": "# Importar librerías",
   "id": "ad8d1883bcb454da"
  },
  {
   "cell_type": "code",
   "id": "initial_id",
   "metadata": {
    "collapsed": true,
    "ExecuteTime": {
     "end_time": "2024-07-12T14:19:04.416472Z",
     "start_time": "2024-07-12T14:19:04.391248Z"
    }
   },
   "source": [
    "import pandas as pd\n",
    "import glob\n"
   ],
   "outputs": [],
   "execution_count": 15
  },
  {
   "metadata": {},
   "cell_type": "markdown",
   "source": [
    "### Jalar toda la informacion\n",
    "- Esta información la jalé de un repositorio privado"
   ],
   "id": "38635f1eedc85bf5"
  },
  {
   "metadata": {
    "ExecuteTime": {
     "end_time": "2024-07-12T14:22:38.944736Z",
     "start_time": "2024-07-12T14:22:38.715119Z"
    }
   },
   "cell_type": "code",
   "source": [
    "folder_path = 'C:\\\\Users\\\\JuanCarlosSaraviaDra\\\\OneDrive - NG ENTERTAINMENT PERÚ II\\\\Escritorio\\\\statssos\\\\3.1_Analisis_descriptivos\\\\equipos_peru\\\\'\n",
    "\n",
    "files = glob.glob(folder_path + '*.csv')\n",
    "dfs = [pd.read_csv(f,header = None, sep = \",\") for f in files]\n",
    "\n",
    "data_equipos = pd.concat(dfs, ignore_index=True)\n",
    "\n",
    "print(data_equipos)\n"
   ],
   "id": "158a5bae6403c0ff",
   "outputs": [
    {
     "name": "stdout",
     "output_type": "stream",
     "text": [
      "                                   0               1          2  \\\n",
      "0                             Equipo          Ciudad  Fundación   \n",
      "1        AD Cafetalera Alto Amazonas        Cajaruro    26 años   \n",
      "2             Agricobank San Lorenzo           Bagua    61 años   \n",
      "3                     Alfonso Ugarte         La Peca    65 años   \n",
      "4                   Alianza Polvorín        Aramango        NaN   \n",
      "...                              ...             ...        ...   \n",
      "1211         Unión Deportivo Huracán          Mancos    57 años   \n",
      "1212                  Unión Juventud        Chimbote    67 años   \n",
      "1213                    Unión Nepeña          Nepeña    72 años   \n",
      "1214  Universidad Nacional del Santa  Nuevo Chimbote    39 años   \n",
      "1215             Virgen de Guadalupe    Pueblo Libre    46 años   \n",
      "\n",
      "                                  3          4         5  \n",
      "0                           Estadio       Liga    region  \n",
      "1             Estadio Alto Amazonas  Copa Perú  Amazonas  \n",
      "2            Estadio Manuel Mesones  Copa Perú  Amazonas  \n",
      "3            Estadio Manuel Mesones  Copa Perú  Amazonas  \n",
      "4     Estadio Municipal de Aramango  Copa Perú  Amazonas  \n",
      "...                             ...        ...       ...  \n",
      "1211    Estadio Municipal de Mancos  Copa Perú    Áncash  \n",
      "1212  Estadio Manuel Rivera Sánchez  Copa Perú    Áncash  \n",
      "1213      Estadio Justo Ruiz Prieto  Copa Perú    Áncash  \n",
      "1214            Estadio César Cueto  Copa Perú    Áncash  \n",
      "1215              Estadio Municipal  Copa Perú    Áncash  \n",
      "\n",
      "[1216 rows x 6 columns]\n"
     ]
    }
   ],
   "execution_count": 17
  },
  {
   "metadata": {
    "ExecuteTime": {
     "end_time": "2024-07-11T20:08:54.248089Z",
     "start_time": "2024-07-11T20:08:54.238252Z"
    }
   },
   "cell_type": "code",
   "source": "\n",
   "id": "36297e687e4bd6ff",
   "outputs": [],
   "execution_count": 19
  },
  {
   "metadata": {},
   "cell_type": "code",
   "outputs": [],
   "execution_count": null,
   "source": "",
   "id": "31e6504bbd252406"
  }
 ],
 "metadata": {
  "kernelspec": {
   "display_name": "Python 3",
   "language": "python",
   "name": "python3"
  },
  "language_info": {
   "codemirror_mode": {
    "name": "ipython",
    "version": 2
   },
   "file_extension": ".py",
   "mimetype": "text/x-python",
   "name": "python",
   "nbconvert_exporter": "python",
   "pygments_lexer": "ipython2",
   "version": "2.7.6"
  }
 },
 "nbformat": 4,
 "nbformat_minor": 5
}
