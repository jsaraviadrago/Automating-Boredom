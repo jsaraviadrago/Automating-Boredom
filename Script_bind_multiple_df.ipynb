{
 "cells": [
  {
   "metadata": {},
   "cell_type": "markdown",
   "source": "# Importar librerías",
   "id": "ad8d1883bcb454da"
  },
  {
   "cell_type": "code",
   "id": "initial_id",
   "metadata": {
    "collapsed": true,
    "ExecuteTime": {
     "end_time": "2024-07-11T20:23:52.296691Z",
     "start_time": "2024-07-11T20:23:50.661077Z"
    }
   },
   "source": [
    "import pandas as pd\n",
    "import glob\n"
   ],
   "outputs": [],
   "execution_count": 2
  },
  {
   "metadata": {},
   "cell_type": "markdown",
   "source": [
    "### Jalar toda la informacion\n",
    "- Esta información la jalé de un repositorio privado"
   ],
   "id": "38635f1eedc85bf5"
  },
  {
   "metadata": {
    "ExecuteTime": {
     "end_time": "2024-07-11T21:04:24.897522Z",
     "start_time": "2024-07-11T21:04:24.848151Z"
    }
   },
   "cell_type": "code",
   "source": [
    "folder_path = 'C:\\\\Users\\\\JuanCarlosSaraviaDra\\\\OneDrive - NG ENTERTAINMENT PERÚ II\\\\Escritorio\\\\statssos\\\\3.1_Analisis_descriptivos\\\\equipos_peru\\\\'\n",
    "\n",
    "file_list = glob.glob(folder_path + \"/*.csv\") \n",
    "main_dataframe = pd.DataFrame(pd.read_table(file_list[0])) \n",
    "  \n",
    "for i in range(1,len(file_list)): \n",
    "    data = pd.read_table(file_list[i]) \n",
    "    df = pd.DataFrame(data) \n",
    "    #main_dataframe = pd.concat([main_dataframe, df], axis = 1) \n",
    "\n",
    "print(data)"
   ],
   "id": "158a5bae6403c0ff",
   "outputs": [
    {
     "name": "stdout",
     "output_type": "stream",
     "text": [
      "          Equipo,Ciudad,Fundación,Estadio,Liga,region\n",
      "0   Alianza Cachipampa,Cachipampa,68 años,Estadio ...\n",
      "1   Alianza Miramar,Chimbote,82 años,Estadio Manue...\n",
      "2   Alianza Saénz Peña,Pariacoto,75 años,Estadio M...\n",
      "3   Alianza San Jacinto,Nepeña,96 años,Estadio Jus...\n",
      "4   Alianza San Luis,Coishco,35 años,Estadio Munic...\n",
      "..                                                ...\n",
      "62  Unión Deportivo Huracán,Mancos,57 años,Estadio...\n",
      "63  Unión Juventud,Chimbote,67 años,Estadio Manuel...\n",
      "64  Unión Nepeña,Nepeña,72 años,Estadio Justo Ruiz...\n",
      "65  Universidad Nacional del Santa,Nuevo Chimbote,...\n",
      "66  Virgen de Guadalupe,Pueblo Libre,46 años,Estad...\n",
      "\n",
      "[67 rows x 1 columns]\n"
     ]
    }
   ],
   "execution_count": 14
  },
  {
   "metadata": {
    "ExecuteTime": {
     "end_time": "2024-07-11T20:08:54.248089Z",
     "start_time": "2024-07-11T20:08:54.238252Z"
    }
   },
   "cell_type": "code",
   "source": [
    "# creating a new csv file with \n",
    "# the dataframe we created \n",
    "main_dataframe.to_csv('new_csv1.csv') \n",
    "\n"
   ],
   "id": "36297e687e4bd6ff",
   "outputs": [],
   "execution_count": 19
  },
  {
   "metadata": {},
   "cell_type": "code",
   "outputs": [],
   "execution_count": null,
   "source": "",
   "id": "31e6504bbd252406"
  }
 ],
 "metadata": {
  "kernelspec": {
   "display_name": "Python 3",
   "language": "python",
   "name": "python3"
  },
  "language_info": {
   "codemirror_mode": {
    "name": "ipython",
    "version": 2
   },
   "file_extension": ".py",
   "mimetype": "text/x-python",
   "name": "python",
   "nbconvert_exporter": "python",
   "pygments_lexer": "ipython2",
   "version": "2.7.6"
  }
 },
 "nbformat": 4,
 "nbformat_minor": 5
}
