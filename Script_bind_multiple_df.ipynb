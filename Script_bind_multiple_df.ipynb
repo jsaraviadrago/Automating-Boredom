{
 "cells": [
  {
   "metadata": {},
   "cell_type": "markdown",
   "source": "# Importar librerías",
   "id": "ad8d1883bcb454da"
  },
  {
   "cell_type": "code",
   "id": "initial_id",
   "metadata": {
    "collapsed": true,
    "ExecuteTime": {
     "end_time": "2024-07-11T20:08:45.486154Z",
     "start_time": "2024-07-11T20:08:45.482371Z"
    }
   },
   "source": [
    "import pandas as pd\n",
    "import glob\n"
   ],
   "outputs": [],
   "execution_count": 17
  },
  {
   "metadata": {},
   "cell_type": "markdown",
   "source": [
    "### Jalar toda la informacion\n",
    "- Esta información la jalé de un repositorio privado"
   ],
   "id": "38635f1eedc85bf5"
  },
  {
   "metadata": {},
   "cell_type": "code",
   "source": [
    "folder_path = 'C:\\\\Users\\\\JuanCarlosSaraviaDra\\\\OneDrive - NG ENTERTAINMENT PERÚ II\\\\Escritorio\\\\statssos\\\\3.1_Analisis_descriptivos\\\\equipos_peru\\\\'\n",
    "\n",
    "file_list = glob.glob(folder_path + \"/*.csv\") \n",
    "main_dataframe = pd.DataFrame(pd.read_table(file_list[0])) \n",
    "  \n",
    "for i in range(1,len(file_list)): \n",
    "    data = pd.read_table(file_list[i]) \n",
    "    df = pd.DataFrame(data) \n",
    "    main_dataframe = pd.concat([main_dataframe, df], axis = 1) \n",
    "\n",
    "print(main_dataframe)\n",
    " \n"
   ],
   "id": "158a5bae6403c0ff",
   "outputs": [],
   "execution_count": null
  },
  {
   "metadata": {
    "ExecuteTime": {
     "end_time": "2024-07-11T20:08:54.248089Z",
     "start_time": "2024-07-11T20:08:54.238252Z"
    }
   },
   "cell_type": "code",
   "source": [
    "# creating a new csv file with \n",
    "# the dataframe we created \n",
    "main_dataframe.to_csv('new_csv1.csv') \n",
    "\n"
   ],
   "id": "36297e687e4bd6ff",
   "outputs": [],
   "execution_count": 19
  },
  {
   "metadata": {},
   "cell_type": "code",
   "outputs": [],
   "execution_count": null,
   "source": "",
   "id": "31e6504bbd252406"
  }
 ],
 "metadata": {
  "kernelspec": {
   "display_name": "Python 3",
   "language": "python",
   "name": "python3"
  },
  "language_info": {
   "codemirror_mode": {
    "name": "ipython",
    "version": 2
   },
   "file_extension": ".py",
   "mimetype": "text/x-python",
   "name": "python",
   "nbconvert_exporter": "python",
   "pygments_lexer": "ipython2",
   "version": "2.7.6"
  }
 },
 "nbformat": 4,
 "nbformat_minor": 5
}
