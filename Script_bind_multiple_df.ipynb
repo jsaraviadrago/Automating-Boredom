{
 "cells": [
  {
   "metadata": {},
   "cell_type": "markdown",
   "source": "# Importar librerías",
   "id": "ad8d1883bcb454da"
  },
  {
   "cell_type": "code",
   "id": "initial_id",
   "metadata": {
    "collapsed": true,
    "ExecuteTime": {
     "end_time": "2024-07-12T16:41:56.292922Z",
     "start_time": "2024-07-12T16:41:56.289362Z"
    }
   },
   "source": [
    "import pandas as pd\n",
    "import glob\n"
   ],
   "outputs": [],
   "execution_count": 6
  },
  {
   "metadata": {},
   "cell_type": "markdown",
   "source": [
    "### Jalar toda la informacion\n",
    "- Esta información la jalé de un repositorio privado"
   ],
   "id": "38635f1eedc85bf5"
  },
  {
   "metadata": {
    "ExecuteTime": {
     "end_time": "2024-07-12T16:43:34.926317Z",
     "start_time": "2024-07-12T16:43:34.888668Z"
    }
   },
   "cell_type": "code",
   "source": [
    "folder_path = 'C:\\\\Users\\\\JuanCarlosSaraviaDra\\\\OneDrive - NG ENTERTAINMENT PERÚ II\\\\Escritorio\\\\statssos\\\\3.1_Analisis_descriptivos\\\\equipos_peru\\\\'\n",
    "\n",
    "files = glob.glob(folder_path + '*.csv')\n",
    "dfs = [pd.read_csv(f,header = None, sep = \",\") for f in files]\n",
    "\n",
    "data_equipos = pd.concat(dfs, ignore_index=True)\n",
    "\n",
    "headers = data_equipos.iloc[0].values\n",
    "data_equipos.columns = headers\n",
    "data_equipos.drop(index=0, axis=0, inplace=True)\n",
    "\n",
    "data_equipos = data_equipos[data_equipos.region != \"region\"]\n",
    "\n",
    "#data_equipos\n",
    "\n",
    "\n",
    "#data_equipos.to_csv(\"C:\\\\Users\\\\JuanCarlosSaraviaDra\\\\Downloads\\\\data_equipos_vf1.csv\", index=None)\n"
   ],
   "id": "158a5bae6403c0ff",
   "outputs": [],
   "execution_count": 8
  },
  {
   "metadata": {
    "ExecuteTime": {
     "end_time": "2024-07-11T20:08:54.248089Z",
     "start_time": "2024-07-11T20:08:54.238252Z"
    }
   },
   "cell_type": "code",
   "source": "\n",
   "id": "36297e687e4bd6ff",
   "outputs": [],
   "execution_count": 19
  },
  {
   "metadata": {},
   "cell_type": "code",
   "outputs": [],
   "execution_count": null,
   "source": "",
   "id": "31e6504bbd252406"
  }
 ],
 "metadata": {
  "kernelspec": {
   "display_name": "Python 3",
   "language": "python",
   "name": "python3"
  },
  "language_info": {
   "codemirror_mode": {
    "name": "ipython",
    "version": 2
   },
   "file_extension": ".py",
   "mimetype": "text/x-python",
   "name": "python",
   "nbconvert_exporter": "python",
   "pygments_lexer": "ipython2",
   "version": "2.7.6"
  }
 },
 "nbformat": 4,
 "nbformat_minor": 5
}
