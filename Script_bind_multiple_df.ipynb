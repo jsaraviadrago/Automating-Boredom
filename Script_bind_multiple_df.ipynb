{
 "cells": [
  {
   "metadata": {},
   "cell_type": "markdown",
   "source": "# Importar librerías",
   "id": "ad8d1883bcb454da"
  },
  {
   "cell_type": "code",
   "id": "initial_id",
   "metadata": {
    "collapsed": true,
    "ExecuteTime": {
     "end_time": "2024-07-12T14:19:04.416472Z",
     "start_time": "2024-07-12T14:19:04.391248Z"
    }
   },
   "source": [
    "import pandas as pd\n",
    "import glob\n"
   ],
   "outputs": [],
   "execution_count": 15
  },
  {
   "metadata": {},
   "cell_type": "markdown",
   "source": [
    "### Jalar toda la informacion\n",
    "- Esta información la jalé de un repositorio privado"
   ],
   "id": "38635f1eedc85bf5"
  },
  {
   "metadata": {
    "ExecuteTime": {
     "end_time": "2024-07-12T16:12:43.347925Z",
     "start_time": "2024-07-12T16:12:43.307312Z"
    }
   },
   "cell_type": "code",
   "source": [
    "folder_path = 'C:\\\\Users\\\\JuanCarlosSaraviaDra\\\\OneDrive - NG ENTERTAINMENT PERÚ II\\\\Escritorio\\\\statssos\\\\3.1_Analisis_descriptivos\\\\equipos_peru\\\\'\n",
    "\n",
    "files = glob.glob(folder_path + '*.csv')\n",
    "dfs = [pd.read_csv(f,header = None, sep = \",\") for f in files]\n",
    "\n",
    "data_equipos = pd.concat(dfs, ignore_index=True)\n",
    "\n",
    "headers = data_equipos.iloc[0].values\n",
    "data_equipos.columns = headers\n",
    "data_equipos.drop(index=0, axis=0, inplace=True)\n",
    "\n",
    "data_equipos = data_equipos[data_equipos.Equipo != \"Equipo\"]\n",
    "\n",
    "data_equipos\n",
    "\n",
    "data_equipos.to_csv(\"C:\\\\Users\\\\JuanCarlosSaraviaDra\\\\Downloads\\\\data_equipos_vf1.csv\")\n"
   ],
   "id": "158a5bae6403c0ff",
   "outputs": [],
   "execution_count": 31
  },
  {
   "metadata": {
    "ExecuteTime": {
     "end_time": "2024-07-11T20:08:54.248089Z",
     "start_time": "2024-07-11T20:08:54.238252Z"
    }
   },
   "cell_type": "code",
   "source": "\n",
   "id": "36297e687e4bd6ff",
   "outputs": [],
   "execution_count": 19
  },
  {
   "metadata": {},
   "cell_type": "code",
   "outputs": [],
   "execution_count": null,
   "source": "",
   "id": "31e6504bbd252406"
  }
 ],
 "metadata": {
  "kernelspec": {
   "display_name": "Python 3",
   "language": "python",
   "name": "python3"
  },
  "language_info": {
   "codemirror_mode": {
    "name": "ipython",
    "version": 2
   },
   "file_extension": ".py",
   "mimetype": "text/x-python",
   "name": "python",
   "nbconvert_exporter": "python",
   "pygments_lexer": "ipython2",
   "version": "2.7.6"
  }
 },
 "nbformat": 4,
 "nbformat_minor": 5
}
